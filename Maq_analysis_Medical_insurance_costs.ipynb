{
 "cells": [
  {
   "cell_type": "markdown",
   "metadata": {},
   "source": [
    "# U.S. Medical Insurance Costs Maq"
   ]
  },
  {
   "cell_type": "markdown",
   "metadata": {},
   "source": [
    "### Importing csv library to import the data to my notebook"
   ]
  },
  {
   "cell_type": "code",
   "execution_count": 52,
   "metadata": {},
   "outputs": [],
   "source": [
    "import csv"
   ]
  },
  {
   "cell_type": "markdown",
   "metadata": {},
   "source": [
    "### Creating different lists to store the data in."
   ]
  },
  {
   "cell_type": "code",
   "execution_count": 53,
   "metadata": {},
   "outputs": [],
   "source": [
    "children = []\n",
    "ages = []\n",
    "bmi = []\n",
    "sex = []\n",
    "location = []\n",
    "charges = []\n",
    "smoker = []"
   ]
  },
  {
   "cell_type": "markdown",
   "metadata": {},
   "source": [
    "### Importing the data from the CSV to my lists."
   ]
  },
  {
   "cell_type": "code",
   "execution_count": 54,
   "metadata": {},
   "outputs": [],
   "source": [
    "with open(\"insurance.csv\") as insurance_data:\n",
    "    data_imported = csv.DictReader(insurance_data)\n",
    "    for data in data_imported:\n",
    "        ages.append(int(data['age']))\n",
    "        sex.append(data['sex'])\n",
    "        bmi.append(float(data['bmi']))\n",
    "        children.append(int(data['children']))\n",
    "        smoker.append(data['smoker'])\n",
    "        location.append(data['region'])\n",
    "        charges.append(float(data['charges']))"
   ]
  },
  {
   "cell_type": "markdown",
   "metadata": {},
   "source": [
    "### Changing my smoker/sex lists to numbers for easy analysis"
   ]
  },
  {
   "cell_type": "code",
   "execution_count": 55,
   "metadata": {},
   "outputs": [],
   "source": [
    "smoker = [1 if smoke == 'yes' else 0 for smoke in smoker]"
   ]
  },
  {
   "cell_type": "code",
   "execution_count": 56,
   "metadata": {},
   "outputs": [],
   "source": [
    "sex = [1 if gen == 'male' else 0 for gen in sex]"
   ]
  },
  {
   "cell_type": "markdown",
   "metadata": {},
   "source": [
    "### Created a Patient class that will store the information of each patient and have methods that will help me with my analysis"
   ]
  },
  {
   "cell_type": "code",
   "execution_count": 106,
   "metadata": {},
   "outputs": [],
   "source": [
    "class Patient:\n",
    "    def __init__(self, my_sex, my_bmi, smoke, my_location, my_charges, my_children, age):\n",
    "        self.my_sex = my_sex\n",
    "        self.my_bmi = my_bmi\n",
    "        self.smoke = smoke\n",
    "        self.my_location = my_location\n",
    "        self.my_charges = my_charges\n",
    "        self.my_children = my_children\n",
    "        self.age = age\n",
    "    \n",
    "    def estimated_cost(self):\n",
    "        return 250 * self.age - 128 * self.my_sex + 370 * self.my_bmi + 425 * self.my_children + 24000 * self.smoke - 12500\n",
    "    \n",
    "    def calculate_diff(self):\n",
    "        return abs(self.estimated_cost() - self.my_charges)"
   ]
  },
  {
   "cell_type": "markdown",
   "metadata": {},
   "source": [
    "### Empty patients list to later store patient objects"
   ]
  },
  {
   "cell_type": "code",
   "execution_count": 107,
   "metadata": {},
   "outputs": [],
   "source": [
    "patients = []"
   ]
  },
  {
   "cell_type": "markdown",
   "metadata": {},
   "source": [
    "### Function to create patients incase the data changes and we have an increase in patinets"
   ]
  },
  {
   "cell_type": "code",
   "execution_count": 108,
   "metadata": {},
   "outputs": [],
   "source": [
    "def create_patients():\n",
    "    for i in range(len(ages)):\n",
    "        patients.append(Patient(sex[i], bmi[i], smoker[i], location[i], charges[i], children[i],ages[i]))\n",
    "    "
   ]
  },
  {
   "cell_type": "code",
   "execution_count": 109,
   "metadata": {},
   "outputs": [],
   "source": [
    "create_patients()"
   ]
  },
  {
   "cell_type": "markdown",
   "metadata": {},
   "source": [
    "### 3 Functions that I have used for my analysis. Finding the average charges, average bmi, and average difference.\n",
    "\n",
    "- We can see that from the first function, that many people are charged higher than 13K dollars.\n",
    "\n",
    "- In the second function, we can see that many of the patients are actually obese or close to it.\n",
    "\n",
    "- Finally, we can see that the actual accuracy of predicting your insurance charges is difficult, since theres a +/- 4400K dollars in difference from the predicted formula"
   ]
  },
  {
   "cell_type": "code",
   "execution_count": 110,
   "metadata": {},
   "outputs": [],
   "source": [
    "def avg_charges():\n",
    "    total = 0\n",
    "    for patient in patients:\n",
    "        total += patient.my_charges\n",
    "        \n",
    "    return total/len(patients)"
   ]
  },
  {
   "cell_type": "code",
   "execution_count": 111,
   "metadata": {},
   "outputs": [
    {
     "data": {
      "text/plain": [
       "13270.422265141257"
      ]
     },
     "execution_count": 111,
     "metadata": {},
     "output_type": "execute_result"
    }
   ],
   "source": [
    "avg_charges()"
   ]
  },
  {
   "cell_type": "code",
   "execution_count": 112,
   "metadata": {},
   "outputs": [],
   "source": [
    "def avg_bmi():\n",
    "    total = 0\n",
    "    for patient in patients:\n",
    "        total += patient.my_bmi\n",
    "        \n",
    "    return total/len(patients)"
   ]
  },
  {
   "cell_type": "code",
   "execution_count": 113,
   "metadata": {},
   "outputs": [
    {
     "data": {
      "text/plain": [
       "30.663396860986538"
      ]
     },
     "execution_count": 113,
     "metadata": {},
     "output_type": "execute_result"
    }
   ],
   "source": [
    "avg_bmi()"
   ]
  },
  {
   "cell_type": "code",
   "execution_count": 115,
   "metadata": {},
   "outputs": [],
   "source": [
    "def avg_diff():\n",
    "    total = 0\n",
    "    for patient in patients:\n",
    "        total += patient.calculate_diff()\n",
    "        \n",
    "    return total/len(patients)"
   ]
  },
  {
   "cell_type": "code",
   "execution_count": 116,
   "metadata": {},
   "outputs": [
    {
     "data": {
      "text/plain": [
       "4437.5104477421555"
      ]
     },
     "execution_count": 116,
     "metadata": {},
     "output_type": "execute_result"
    }
   ],
   "source": [
    "avg_diff()"
   ]
  },
  {
   "cell_type": "markdown",
   "metadata": {},
   "source": [
    "### I hope you found my analysis useful"
   ]
  }
 ],
 "metadata": {
  "kernelspec": {
   "display_name": "Python 3 (ipykernel)",
   "language": "python",
   "name": "python3"
  },
  "language_info": {
   "codemirror_mode": {
    "name": "ipython",
    "version": 3
   },
   "file_extension": ".py",
   "mimetype": "text/x-python",
   "name": "python",
   "nbconvert_exporter": "python",
   "pygments_lexer": "ipython3",
   "version": "3.9.7"
  }
 },
 "nbformat": 4,
 "nbformat_minor": 4
}
